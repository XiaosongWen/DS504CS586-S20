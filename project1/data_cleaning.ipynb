{
 "cells": [
  {
   "cell_type": "code",
   "execution_count": 2,
   "metadata": {},
   "outputs": [],
   "source": [
    "import numpy as np\n",
    "import pandas as pd\n",
    "import glob\n",
    "def check(dataList):\n",
    "    for i in range(1, dataList.shape[0]):\n",
    "        if dataList[i,1]-dataList[i-1,1] != 30:\n",
    "            print('---------------------------')\n",
    "            print(str(i-1)+str(dataList[i-1]))\n",
    "            print(str(i)+str(dataList[i]))\n",
    "            print(dataList[i,1]-dataList[i-1,1])\n",
    "path = 'data/*.csv'\n",
    "Data = []\n",
    "for fname in glob.glob(path):\n",
    "    Data.append(np.genfromtxt(fname, delimiter=','))\n",
    "def fix(dataList):\n",
    "    for i in range(1, dataList.shape[0]):\n",
    "        dataList[i,1] = dataList[i-1,1] + 30"
   ]
  },
  {
   "cell_type": "code",
   "execution_count": 3,
   "metadata": {},
   "outputs": [],
   "source": [
    "data_set = Data[0]\n",
    "for i in range(1,len(Data)):\n",
    "    data_set = np.append(data_set, Data[i], axis=0)"
   ]
  },
  {
   "cell_type": "code",
   "execution_count": 4,
   "metadata": {},
   "outputs": [
    {
     "name": "stdout",
     "output_type": "stream",
     "text": [
      "---------------------------\n",
      "37904[1229899. 1137150.]\n",
      "37905[1229931. 1137182.]\n",
      "32.0\n",
      "---------------------------\n",
      "42904[1392908. 1287152.]\n",
      "42905[1392940. 1287184.]\n",
      "32.0\n",
      "---------------------------\n",
      "47904[1561769. 1437154.]\n",
      "47905[1561801. 1437188.]\n",
      "34.0\n",
      "---------------------------\n",
      "52904[1731733. 1587158.]\n",
      "52905[1731764. 1587190.]\n",
      "32.0\n",
      "---------------------------\n",
      "57904[1903311. 1737160.]\n",
      "57905[1903342. 1737196.]\n",
      "36.0\n",
      "---------------------------\n",
      "62904[2071042. 1887166.]\n",
      "62905[2071074. 1887204.]\n",
      "38.0\n",
      "fixed\n"
     ]
    }
   ],
   "source": [
    "data_Final =np.sort(data_set,axis = 0)\n",
    "check(data_Final)\n",
    "fix(data_Final)\n",
    "print(\"fixed\")\n",
    "check(data_Final)"
   ]
  },
  {
   "cell_type": "code",
   "execution_count": 5,
   "metadata": {},
   "outputs": [
    {
     "data": {
      "text/plain": [
       "array([10874166., 10257510.])"
      ]
     },
     "execution_count": 5,
     "metadata": {},
     "output_type": "execute_result"
    }
   ],
   "source": [
    "data_Final[-1]"
   ]
  },
  {
   "cell_type": "code",
   "execution_count": 6,
   "metadata": {},
   "outputs": [],
   "source": [
    "def merge(my_data, scale = 10000):\n",
    "    d = []\n",
    "    n = 0\n",
    "    index = 0\n",
    "    for i in range(my_data.shape[0]):\n",
    "        if (my_data[i,0] / 10000) > (index+1):\n",
    "            d.append([index*scale, my_data[i,1]-n])\n",
    "            n = my_data[i,1]\n",
    "            index += 1\n",
    "        if my_data[i,0] > 10870000:            \n",
    "            break\n",
    "    data = np.array(d)    \n",
    "    return data"
   ]
  },
  {
   "cell_type": "code",
   "execution_count": 7,
   "metadata": {
    "scrolled": false
   },
   "outputs": [
    {
     "name": "stdout",
     "output_type": "stream",
     "text": [
      "10253550.0\n"
     ]
    }
   ],
   "source": [
    "d = merge(data_Final)"
   ]
  },
  {
   "cell_type": "code",
   "execution_count": 10,
   "metadata": {},
   "outputs": [
    {
     "data": {
      "image/png": "[encoded data removed]",
      "text/plain": [
       "<Figure size 432x288 with 1 Axes>"
      ]
     },
     "metadata": {
      "needs_background": "light"
     },
     "output_type": "display_data"
    }
   ],
   "source": [
    "import matplotlib.pyplot as plt\n",
    "x = d[:,0]\n",
    "y = d[:,1]\n",
    "plt.plot(x,y,\"b--\",linewidth=1)\n",
    "plt.xlabel(\"Ids\")\n",
    "plt.ylabel(\"Valid Counts\")\n",
    "plt.title(\"Number of Valid IDs every 10000\")\n",
    "plt.show()"
   ]
  },
  {
   "cell_type": "code",
   "execution_count": null,
   "metadata": {},
   "outputs": [],
   "source": []
  }
 ],
 "metadata": {
  "kernelspec": {
   "display_name": "Python 3",
   "language": "python",
   "name": "python3"
  },
  "language_info": {
   "codemirror_mode": {
    "name": "ipython",
    "version": 3
   },
   "file_extension": ".py",
   "mimetype": "text/x-python",
   "name": "python",
   "nbconvert_exporter": "python",
   "pygments_lexer": "ipython3",
   "version": "3.7.0"
  }
 },
 "nbformat": 4,
 "nbformat_minor": 4
}
