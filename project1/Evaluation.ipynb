{
 "cells": [
  {
   "cell_type": "code",
   "execution_count": 1,
   "metadata": {
    "scrolled": true
   },
   "outputs": [],
   "source": [
    "import numpy as np\n",
    "import pandas as pd\n",
    "import glob\n",
    "folderPath = 'estimate*'\n",
    "Data = []\n",
    "MAX = 10870000\n",
    "N = 10253550\n",
    "def summary(data):\n",
    "    budget = data.shape[0]\n",
    "    if budget == 0:\n",
    "        return [0,0]\n",
    "    s = np.sum(data,axis=0)[2]    \n",
    "    result = s / budget * MAX/100\n",
    "    \n",
    "    return [budget, (result - N)/N*100]\n",
    "\n",
    "for folder in glob.glob(folderPath):    \n",
    "    count = 0\n",
    "    if folder !='Estimate.py':        \n",
    "        path = folder + '/estimate_*.csv'\n",
    "        for fname in glob.glob(path):\n",
    "            data = np.genfromtxt(fname, delimiter=',')\n",
    "            s = summary(data)\n",
    "            if s[0] == 0:\n",
    "                continue\n",
    "            if s[0] == 100:\n",
    "                count += 1\n",
    "            Data.append(s)        "
   ]
  },
  {
   "cell_type": "code",
   "execution_count": 2,
   "metadata": {},
   "outputs": [],
   "source": [
    "d = np.array(Data)\n",
    "P = np.zeros((50,5))\n",
    "i100 = 0\n",
    "i200 = 0\n",
    "i300 = 0\n",
    "i400 = 0\n",
    "i500 = 0\n",
    "\n",
    "for i in range(d.shape[0]):\n",
    "    if d[i][0] == 100:\n",
    "        P[i100][0] = d[i][1]\n",
    "        i100 += 1\n",
    "    if d[i][0] == 200:\n",
    "        P[i200][1] = d[i][1]\n",
    "        i200 += 1\n",
    "    if d[i][0] == 300:\n",
    "        P[i300][2] = d[i][1]\n",
    "        i300 += 1\n",
    "    if d[i][0] == 400:\n",
    "        P[i400][3] = d[i][1]\n",
    "        i400 += 1\n",
    "    if d[i][0] == 500:\n",
    "        P[i500][4] = d[i][1]\n",
    "        i500 += 1"
   ]
  },
  {
   "cell_type": "code",
   "execution_count": 16,
   "metadata": {
    "scrolled": true
   },
   "outputs": [
    {
     "data": {
      "text/html": [
       "<div>\n",
       "<style scoped>\n",
       "    .dataframe tbody tr th:only-of-type {\n",
       "        vertical-align: middle;\n",
       "    }\n",
       "\n",
       "    .dataframe tbody tr th {\n",
       "        vertical-align: top;\n",
       "    }\n",
       "\n",
       "    .dataframe thead th {\n",
       "        text-align: right;\n",
       "    }\n",
       "</style>\n",
       "<table border=\"1\" class=\"dataframe\">\n",
       "  <thead>\n",
       "    <tr style=\"text-align: right;\">\n",
       "      <th></th>\n",
       "      <th>100</th>\n",
       "      <th>200</th>\n",
       "      <th>300</th>\n",
       "      <th>400</th>\n",
       "      <th>500</th>\n",
       "    </tr>\n",
       "  </thead>\n",
       "  <tbody>\n",
       "    <tr>\n",
       "      <th>count</th>\n",
       "      <td>50.000000</td>\n",
       "      <td>50.000000</td>\n",
       "      <td>50.000000</td>\n",
       "      <td>50.000000</td>\n",
       "      <td>50.000000</td>\n",
       "    </tr>\n",
       "    <tr>\n",
       "      <th>mean</th>\n",
       "      <td>-0.055642</td>\n",
       "      <td>0.059487</td>\n",
       "      <td>0.075671</td>\n",
       "      <td>0.034872</td>\n",
       "      <td>-0.010523</td>\n",
       "    </tr>\n",
       "    <tr>\n",
       "      <th>std</th>\n",
       "      <td>0.748987</td>\n",
       "      <td>0.372929</td>\n",
       "      <td>0.336763</td>\n",
       "      <td>0.245682</td>\n",
       "      <td>0.126764</td>\n",
       "    </tr>\n",
       "    <tr>\n",
       "      <th>min</th>\n",
       "      <td>-1.302768</td>\n",
       "      <td>-1.175554</td>\n",
       "      <td>-0.603089</td>\n",
       "      <td>-0.572185</td>\n",
       "      <td>-0.282679</td>\n",
       "    </tr>\n",
       "    <tr>\n",
       "      <th>25%</th>\n",
       "      <td>-0.762107</td>\n",
       "      <td>-0.123384</td>\n",
       "      <td>-0.155188</td>\n",
       "      <td>-0.094231</td>\n",
       "      <td>-0.085991</td>\n",
       "    </tr>\n",
       "    <tr>\n",
       "      <th>50%</th>\n",
       "      <td>0.091290</td>\n",
       "      <td>0.093941</td>\n",
       "      <td>0.107192</td>\n",
       "      <td>0.025033</td>\n",
       "      <td>0.004230</td>\n",
       "    </tr>\n",
       "    <tr>\n",
       "      <th>75%</th>\n",
       "      <td>0.549793</td>\n",
       "      <td>0.360296</td>\n",
       "      <td>0.313032</td>\n",
       "      <td>0.219167</td>\n",
       "      <td>0.061019</td>\n",
       "    </tr>\n",
       "    <tr>\n",
       "      <th>max</th>\n",
       "      <td>1.432343</td>\n",
       "      <td>0.631952</td>\n",
       "      <td>0.937620</td>\n",
       "      <td>0.547142</td>\n",
       "      <td>0.270679</td>\n",
       "    </tr>\n",
       "  </tbody>\n",
       "</table>\n",
       "</div>"
      ],
      "text/plain": [
       "             100        200        300        400        500\n",
       "count  50.000000  50.000000  50.000000  50.000000  50.000000\n",
       "mean   -0.055642   0.059487   0.075671   0.034872  -0.010523\n",
       "std     0.748987   0.372929   0.336763   0.245682   0.126764\n",
       "min    -1.302768  -1.175554  -0.603089  -0.572185  -0.282679\n",
       "25%    -0.762107  -0.123384  -0.155188  -0.094231  -0.085991\n",
       "50%     0.091290   0.093941   0.107192   0.025033   0.004230\n",
       "75%     0.549793   0.360296   0.313032   0.219167   0.061019\n",
       "max     1.432343   0.631952   0.937620   0.547142   0.270679"
      ]
     },
     "execution_count": 16,
     "metadata": {},
     "output_type": "execute_result"
    }
   ],
   "source": [
    "# df = pd.DataFrame(P, columns=['100', '200', '300', '400', '500'])\n",
    "df.describe()"
   ]
  },
  {
   "cell_type": "code",
   "execution_count": 20,
   "metadata": {},
   "outputs": [
    {
     "name": "stderr",
     "output_type": "stream",
     "text": [
      "C:\\Users\\Tomas Wen\\Anaconda3\\lib\\site-packages\\matplotlib\\cbook\\deprecation.py:107: MatplotlibDeprecationWarning: Passing one of 'on', 'true', 'off', 'false' as a boolean is deprecated; use an actual boolean (True/False) instead.\n",
      "  warnings.warn(message, mplDeprecation, stacklevel=1)\n"
     ]
    },
    {
     "data": {
      "text/plain": [
       "<matplotlib.axes._subplots.AxesSubplot at 0x204754abf28>"
      ]
     },
     "execution_count": 20,
     "metadata": {},
     "output_type": "execute_result"
    },
    {
     "data": {
      "image/png": "[encoded data removed]",
      "text/plain": [
       "<Figure size 432x288 with 1 Axes>"
      ]
     },
     "metadata": {
      "needs_background": "light"
     },
     "output_type": "display_data"
    }
   ],
   "source": [
    "df.plot.box(grid='True')"
   ]
  }
 ],
 "metadata": {
  "kernelspec": {
   "display_name": "Python 3",
   "language": "python",
   "name": "python3"
  },
  "language_info": {
   "codemirror_mode": {
    "name": "ipython",
    "version": 3
   },
   "file_extension": ".py",
   "mimetype": "text/x-python",
   "name": "python",
   "nbconvert_exporter": "python",
   "pygments_lexer": "ipython3",
   "version": "3.7.0"
  }
 },
 "nbformat": 4,
 "nbformat_minor": 2
}
