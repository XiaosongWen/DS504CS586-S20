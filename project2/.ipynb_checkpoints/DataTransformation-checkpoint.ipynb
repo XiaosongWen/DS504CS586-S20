{
 "cells": [
  {
   "cell_type": "code",
   "execution_count": 2,
   "metadata": {},
   "outputs": [],
   "source": [
    "import glob\n",
    "import pandas as pd\n",
    "import numpy as np\n",
    "MIN_LONG = 113.660000\n",
    "MAX_LONG = 115.350000\n",
    "MIN_LAT = 22.470000\n",
    "MAX_LAT = 26.870000\n",
    "MAX_X = 168\n",
    "MAX_Y = 440\n",
    "\n",
    "GRID_SIZE = [0.01,0.01]"
   ]
  },
  {
   "cell_type": "code",
   "execution_count": 3,
   "metadata": {},
   "outputs": [],
   "source": [
    "def getX(long):\n",
    "    if long > MAX_LONG or long < MIN_LONG:\n",
    "        return -1\n",
    "    return int ((long - MIN_LONG)//GRID_SIZE[0])\n",
    "def getY(lat):\n",
    "    if lat > MAX_LAT or lat < MIN_LAT:\n",
    "        return -1\n",
    "    return int ((lat - MIN_LAT)//GRID_SIZE[1])\n",
    "def getGridNumber(X, Y): \n",
    "    \n",
    "    return Y*MAX_X + X"
   ]
  },
  {
   "cell_type": "code",
   "execution_count": 4,
   "metadata": {},
   "outputs": [],
   "source": [
    "def ValidTime(hour, minute, h, m):\n",
    "    if h == hour and minute == m:\n",
    "        return 0    \n",
    "    if hour < h or (h == hour and minute < m):\n",
    "        return -1\n",
    "    return 1\n",
    "def nextMinute(h,m):\n",
    "        m = (m+1) % 60\n",
    "        if m == 0:\n",
    "            h += 1\n",
    "        return h, m\n",
    "    \n",
    "def valid(D):\n",
    "    h = m = 0\n",
    "    i = 0\n",
    "    while i < 1440 and ValidTime(h, m, D[i][-2], D[i][-1]) == 0:\n",
    "        h, m = nextMinute(h, m)\n",
    "        i += 1\n",
    "    if i != 1440:\n",
    "        print(h, m, i)\n",
    "        return False\n",
    "    return True\n"
   ]
  },
  {
   "cell_type": "code",
   "execution_count": 9,
   "metadata": {},
   "outputs": [],
   "source": [
    "## [gridNo., status, X, Y, long, lat, Hour, Min] for every minute, fill 0,0 if not record for the entire minuts\n",
    "def transform(df):\n",
    "    D = [[0 for i in range(8)] for i in range(1440)]\n",
    "    data = df.values\n",
    "        \n",
    "    hour = 0\n",
    "    minute = 0\n",
    "    index_D = 0\n",
    "    index_d = 0\n",
    "    long = 114.5093995\n",
    "    lat = 24.67015\n",
    "    x = getX(long)\n",
    "    y = getY(lat)\n",
    "    No = getGridNumber(x,y)\n",
    "    status = 0\n",
    "    \n",
    "    while hour < 24:\n",
    "        while index_d < data.shape[0] and ValidTime(hour, minute, data[index_d][5], data[index_d][6]) < 0 and hour < 24:\n",
    "            D[index_D] = [No, status, x, y, long, lat, hour, minute]\n",
    "#             print('a', index_D,D[index_D])\n",
    "            index_D += 1\n",
    "            hour, minute = nextMinute(hour,minute)\n",
    "        while index_d < data.shape[0] and ValidTime(hour, minute, data[index_d][5], data[index_d][6]) > 0:\n",
    "            index_d += 1\n",
    "        if index_d >= data.shape[0]:\n",
    "            x = getX(data[-1][0])\n",
    "            y = getY(data[-1][1])\n",
    "            No = getGridNumber(x,y)\n",
    "            status = data[-1][-1]\n",
    "            long = data[-1][0]\n",
    "            lat = data[-1][1]\n",
    "            D[index_D] = [No, status, x, y, long, lat, hour, minute]\n",
    "#             print('b',index_D, D[index_D])\n",
    "        else:\n",
    "            x = getX(data[index_d][0])\n",
    "            y = getY(data[index_d][1])\n",
    "            No = getGridNumber(x,y)\n",
    "            status = data[index_d][-1]\n",
    "            long = data[index_d][0]\n",
    "            lat = data[index_d][1]\n",
    "            D[index_D] = [No, status, x, y, long, lat, hour, minute]\n",
    "        index_d += 1\n",
    "        index_D += 1\n",
    "        hour, minute = nextMinute(hour,minute)\n",
    "        \n",
    "    if not valid(D):\n",
    "        print('Failure')\n",
    "        return D\n",
    "    D = pd.DataFrame(D, columns = ['gridNo.','status','X','Y', 'Long','Lat', 'Hour','Min'])\n",
    "    return D"
   ]
  },
  {
   "cell_type": "code",
   "execution_count": 11,
   "metadata": {},
   "outputs": [
    {
     "name": "stdout",
     "output_type": "stream",
     "text": [
      "50 data/All/0\\2016_08_20.csv\n",
      "100 data/All/0\\2016_10_09.csv\n",
      "150 data/All/0\\2016_11_28.csv\n",
      "200 data/All/1\\2016_07_24.csv\n",
      "250 data/All/1\\2016_09_12.csv\n",
      "300 data/All/1\\2016_11_01.csv\n",
      "350 data/All/1\\2016_12_22.csv\n",
      "400 data/All/2\\2016_08_16.csv\n",
      "450 data/All/2\\2016_10_05.csv\n",
      "500 data/All/2\\2016_11_24.csv\n",
      "550 data/All/3\\2016_07_20.csv\n",
      "600 data/All/3\\2016_09_08.csv\n",
      "650 data/All/3\\2016_10_28.csv\n",
      "700 data/All/3\\2016_12_18.csv\n",
      "750 data/All/4\\2016_08_12.csv\n",
      "800 data/All/4\\2016_10_01.csv\n",
      "850 data/All/4\\2016_11_20.csv\n"
     ]
    }
   ],
   "source": [
    "index = 0\n",
    "PATH = ['data/Tranformed/0/', 'data/Tranformed/1/','data/Tranformed/2/','data/Tranformed/3/', 'data/Tranformed/4/']\n",
    "for label in range(5):\n",
    "    path = 'data/All/' + str(label)+'/*.csv'\n",
    "    files = glob.glob(path)\n",
    "    for filename in files:   \n",
    "        index += 1\n",
    "        day = filename.split('\\\\')[1].split('.')[0]\n",
    "        if (index % 50 == 0):\n",
    "            print(index, filename)\n",
    "        df = pd.read_csv(filename, index_col=None, header=0)\n",
    "        D = transform(df)\n",
    "        D.to_csv(PATH[label]+day+'.csv',index=False)"
   ]
  },
  {
   "cell_type": "code",
   "execution_count": null,
   "metadata": {},
   "outputs": [],
   "source": []
  }
 ],
 "metadata": {
  "kernelspec": {
   "display_name": "Python 3",
   "language": "python",
   "name": "python3"
  },
  "language_info": {
   "codemirror_mode": {
    "name": "ipython",
    "version": 3
   },
   "file_extension": ".py",
   "mimetype": "text/x-python",
   "name": "python",
   "nbconvert_exporter": "python",
   "pygments_lexer": "ipython3",
   "version": "3.8.1"
  }
 },
 "nbformat": 4,
 "nbformat_minor": 4
}
