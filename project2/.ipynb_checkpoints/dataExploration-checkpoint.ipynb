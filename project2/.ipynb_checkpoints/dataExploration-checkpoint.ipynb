{
 "cells": [
  {
   "cell_type": "code",
   "execution_count": 1,
   "metadata": {},
   "outputs": [],
   "source": [
    "import glob\n",
    "import pandas as pd\n",
    "import numpy as np\n",
    "import matplotlib as plt\n",
    "import seaborn as sns\n",
    "import random\n",
    "DATA = {\n",
    "    'longitude':{\n",
    "        'mean' : 114.0471,\n",
    "        'sd' : 0.3571815,\n",
    "        'min' : 113.668831,\n",
    "        'max' : 115.349968\n",
    "    },\n",
    "    'latitude':{\n",
    "        'mean': 22.59547,\n",
    "        'sd' : 14.90995,\n",
    "        'min' : 22.470467,\n",
    "        'max' : 26.869833\n",
    "    }\n",
    "}\n",
    "def aggr(data):\n",
    "    traj_raw = data.values[:,1:]\n",
    "    traj = np.array(sorted(traj_raw,key = lambda d:d[2]))\n",
    "    label = data.iloc[0][0]\n",
    "    return traj\n",
    "files = glob.glob(\"data_5drivers/*.csv\")\n",
    "PATH = ['data/All/0/', 'data/All/1/','data/All/2/','data/All/3/', 'data/All/4/']"
   ]
  },
  {
   "cell_type": "code",
   "execution_count": 5,
   "metadata": {
    "scrolled": true
   },
   "outputs": [],
   "source": [
    "# process the data in [longitude latitude, year, month, day, hour, min, second, status]\n",
    "def process_data1(data, status):\n",
    "    d = []\n",
    "    for i in data:\n",
    "        tmp = []\n",
    "#         tmp.append((i[0] - status['longitude']['mean'])/status['longitude']['std'])\n",
    "#         tmp.append((i[1] - status['latitude']['mean'])/status['latitude']['std'])\n",
    "        tmp.append(i[0])\n",
    "        tmp.append(i[1])\n",
    "        s = i[2].split(' ')\n",
    "        s1 = s[0].split('-')\n",
    "        tmp.append(s1[0])\n",
    "        tmp.append(s1[1])\n",
    "        tmp.append(s1[2])\n",
    "        s1 = s[1].split(':')\n",
    "        tmp.append(s1[0])\n",
    "        tmp.append(s1[1])\n",
    "        tmp.append(s1[2])\n",
    "        tmp.append(i[3])\n",
    "        d.append(tmp)\n",
    "    return d"
   ]
  },
  {
   "cell_type": "code",
   "execution_count": 6,
   "metadata": {},
   "outputs": [
    {
     "name": "stdout",
     "output_type": "stream",
     "text": [
      "data_5drivers\\2016_07_01.csv\n",
      "data_5drivers\\2016_07_11.csv\n",
      "data_5drivers\\2016_07_21.csv\n",
      "data_5drivers\\2016_07_31.csv\n",
      "data_5drivers\\2016_08_10.csv\n",
      "data_5drivers\\2016_08_20.csv\n",
      "data_5drivers\\2016_08_30.csv\n",
      "data_5drivers\\2016_09_09.csv\n",
      "data_5drivers\\2016_09_19.csv\n",
      "data_5drivers\\2016_09_29.csv\n",
      "data_5drivers\\2016_10_09.csv\n",
      "data_5drivers\\2016_10_19.csv\n",
      "data_5drivers\\2016_10_29.csv\n",
      "data_5drivers\\2016_11_08.csv\n",
      "data_5drivers\\2016_11_18.csv\n",
      "data_5drivers\\2016_11_28.csv\n",
      "data_5drivers\\2016_12_08.csv\n",
      "data_5drivers\\2016_12_19.csv\n"
     ]
    }
   ],
   "source": [
    "i = 0\n",
    "for filename in files:\n",
    "    if i % 10 == 0:\n",
    "        print(filename)\n",
    "    i += 1\n",
    "    df = pd.read_csv(filename, index_col=None, header=0)\n",
    "    for d in df.groupby('plate'):\n",
    "        lable, x = d\n",
    "        status = x.describe()\n",
    "        sorted_tra = aggr(x)\n",
    "        day = filename.split('\\\\')[1].split('.')[0]\n",
    "        d = process_data1(sorted_tra, status)\n",
    "        d = pd.DataFrame(d, columns = ['longitude', 'latitude', 'year', 'month', 'day', 'hour', 'min', 'second', 'status'])\n",
    "        d.to_csv(PATH[lable]+day+'.csv',index=False)"
   ]
  },
  {
   "cell_type": "code",
   "execution_count": null,
   "metadata": {},
   "outputs": [],
   "source": []
  }
 ],
 "metadata": {
  "kernelspec": {
   "display_name": "Python 3",
   "language": "python",
   "name": "python3"
  },
  "language_info": {
   "codemirror_mode": {
    "name": "ipython",
    "version": 3
   },
   "file_extension": ".py",
   "mimetype": "text/x-python",
   "name": "python",
   "nbconvert_exporter": "python",
   "pygments_lexer": "ipython3",
   "version": "3.8.1"
  }
 },
 "nbformat": 4,
 "nbformat_minor": 4
}
